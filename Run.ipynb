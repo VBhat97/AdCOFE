{
  "nbformat": 4,
  "nbformat_minor": 0,
  "metadata": {
    "colab": {
      "name": "Run.ipynb",
      "provenance": [],
      "collapsed_sections": []
    },
    "kernelspec": {
      "name": "python3",
      "display_name": "Python 3"
    },
    "accelerator": "GPU"
  },
  "cells": [
    {
      "cell_type": "markdown",
      "metadata": {
        "id": "dsGUO8V5KGgY"
      },
      "source": [
        "**Required Installs for the project**"
      ]
    },
    {
      "cell_type": "code",
      "metadata": {
        "colab": {
          "base_uri": "https://localhost:8080/"
        },
        "id": "BhTI5NVgJkpo",
        "outputId": "f1eb447f-1487-4924-fb07-7ba2a68c4cf9"
      },
      "source": [
        "!pip install vaderSentiment\n",
        "!wget --quiet https://raw.githubusercontent.com/tensorflow/models/master/official/nlp/bert/tokenization.py\n",
        "!pip install sentencepiece"
      ],
      "execution_count": null,
      "outputs": [
        {
          "output_type": "stream",
          "text": [
            "Collecting vaderSentiment\n",
            "  Downloading vaderSentiment-3.3.2-py2.py3-none-any.whl (125 kB)\n",
            "\u001b[?25l\r\u001b[K     |██▋                             | 10 kB 32.2 MB/s eta 0:00:01\r\u001b[K     |█████▏                          | 20 kB 18.4 MB/s eta 0:00:01\r\u001b[K     |███████▉                        | 30 kB 15.2 MB/s eta 0:00:01\r\u001b[K     |██████████▍                     | 40 kB 13.9 MB/s eta 0:00:01\r\u001b[K     |█████████████                   | 51 kB 5.5 MB/s eta 0:00:01\r\u001b[K     |███████████████▋                | 61 kB 6.4 MB/s eta 0:00:01\r\u001b[K     |██████████████████▏             | 71 kB 7.4 MB/s eta 0:00:01\r\u001b[K     |████████████████████▉           | 81 kB 7.4 MB/s eta 0:00:01\r\u001b[K     |███████████████████████▍        | 92 kB 6.1 MB/s eta 0:00:01\r\u001b[K     |██████████████████████████      | 102 kB 6.7 MB/s eta 0:00:01\r\u001b[K     |████████████████████████████▋   | 112 kB 6.7 MB/s eta 0:00:01\r\u001b[K     |███████████████████████████████▏| 122 kB 6.7 MB/s eta 0:00:01\r\u001b[K     |████████████████████████████████| 125 kB 6.7 MB/s \n",
            "\u001b[?25hRequirement already satisfied: requests in /usr/local/lib/python3.7/dist-packages (from vaderSentiment) (2.23.0)\n",
            "Requirement already satisfied: chardet<4,>=3.0.2 in /usr/local/lib/python3.7/dist-packages (from requests->vaderSentiment) (3.0.4)\n",
            "Requirement already satisfied: idna<3,>=2.5 in /usr/local/lib/python3.7/dist-packages (from requests->vaderSentiment) (2.10)\n",
            "Requirement already satisfied: certifi>=2017.4.17 in /usr/local/lib/python3.7/dist-packages (from requests->vaderSentiment) (2021.5.30)\n",
            "Requirement already satisfied: urllib3!=1.25.0,!=1.25.1,<1.26,>=1.21.1 in /usr/local/lib/python3.7/dist-packages (from requests->vaderSentiment) (1.24.3)\n",
            "Installing collected packages: vaderSentiment\n",
            "Successfully installed vaderSentiment-3.3.2\n",
            "Requirement already satisfied: sentencepiece in /usr/local/lib/python3.7/dist-packages (0.1.96)\n"
          ],
          "name": "stdout"
        }
      ]
    },
    {
      "cell_type": "markdown",
      "metadata": {
        "id": "a4AmxKgQuADD"
      },
      "source": [
        "**Required Imports for the project**"
      ]
    },
    {
      "cell_type": "code",
      "metadata": {
        "colab": {
          "base_uri": "https://localhost:8080/"
        },
        "id": "9GimOUSzt7dW",
        "outputId": "eca31802-d81b-400b-bfbf-499fcbb0e851"
      },
      "source": [
        "import pickle\n",
        "import string\n",
        "import nltk\n",
        "from nltk.corpus import stopwords\n",
        "nltk.download('punkt')\n",
        "nltk.download('stopwords')\n",
        "import numpy as np\n",
        "from keras.utils.np_utils import to_categorical  \n",
        "import tensorflow_hub as hub\n",
        "import tensorflow as tf\n",
        "from tensorflow.keras.layers import Dense, Input\n",
        "from tensorflow.keras.optimizers import Adam\n",
        "from tensorflow.keras.models import Model\n",
        "from sklearn.metrics import f1_score\n",
        "from sklearn.metrics import accuracy_score\n",
        "from sklearn.metrics import confusion_matrix\n",
        "from sklearn.metrics import precision_score\n",
        "from sklearn.metrics import jaccard_score\n",
        "from vaderSentiment.vaderSentiment import SentimentIntensityAnalyzer\n",
        "import tokenization"
      ],
      "execution_count": null,
      "outputs": [
        {
          "output_type": "stream",
          "text": [
            "[nltk_data] Downloading package punkt to /root/nltk_data...\n",
            "[nltk_data]   Package punkt is already up-to-date!\n",
            "[nltk_data] Downloading package stopwords to /root/nltk_data...\n",
            "[nltk_data]   Package stopwords is already up-to-date!\n"
          ],
          "name": "stdout"
        }
      ]
    },
    {
      "cell_type": "markdown",
      "metadata": {
        "id": "0iWd_7ZkiAh7"
      },
      "source": [
        "**Loading the training and test data**"
      ]
    },
    {
      "cell_type": "markdown",
      "metadata": {
        "id": "C5A1T_gNKPEx"
      },
      "source": [
        "**Importing the Dataset.** (Replace the file location with your local path to the Dataset)"
      ]
    },
    {
      "cell_type": "code",
      "metadata": {
        "id": "TZq8TnaPuGrC"
      },
      "source": [
        "with open('/content/gdrive/My Drive/Dataset/iemocap/train/sentences.pkl', 'rb') as f:\n",
        "    data = pickle.load(f)\n",
        "with open('/content/gdrive/My Drive/Dataset/iemocap/train/labels.pkl', 'rb') as f:\n",
        "    labels = pickle.load(f)\n",
        "with open('/content/gdrive/My Drive/Dataset/iemocap/test/sentences.pkl', 'rb') as f:\n",
        "    test_data = pickle.load(f)\n",
        "with open('/content/gdrive/My Drive/Dataset/iemocap/test/labels.pkl', 'rb') as f:\n",
        "    test_labels = pickle.load(f)\n",
        "with open('/content/gdrive/MyDrive/Dataset/iemocap/train/conversation_length.pkl', 'rb') as f:\n",
        "    train_convlen = pickle.load(f)\n",
        "with open('/content/gdrive/MyDrive/Dataset/iemocap/test/conversation_length.pkl', 'rb') as f:\n",
        "    test_convlen = pickle.load(f)"
      ],
      "execution_count": null,
      "outputs": []
    },
    {
      "cell_type": "markdown",
      "metadata": {
        "id": "dUo4tPlsutap"
      },
      "source": [
        "**Preprocessing the Training Data**"
      ]
    },
    {
      "cell_type": "markdown",
      "metadata": {
        "id": "hm7Ht14Ywf0t"
      },
      "source": [
        "Function to arrange sentences and create an array of string of sentences"
      ]
    },
    {
      "cell_type": "code",
      "metadata": {
        "id": "gQUHCY-Ouwly"
      },
      "source": [
        "def arrange_sentences(data,data2,data3):\n",
        "  startlen=0\n",
        "  final_sentences=[]\n",
        "  final_labels=[]\n",
        "  for i in data:\n",
        "    odd_sentences=[]\n",
        "    odd_labels=[]\n",
        "    for j in range(0,i):\n",
        "      if j%2==0:\n",
        "        final_sentences.append(data2[startlen])\n",
        "        final_labels.append(data3[startlen])\n",
        "        startlen=startlen+1\n",
        "      else:\n",
        "        odd_sentences.append(data2[startlen])\n",
        "        odd_labels.append(data3[startlen])\n",
        "        startlen=startlen+1\n",
        "    for i in range(0,len(odd_sentences)):\n",
        "      final_sentences.append(odd_sentences[i])\n",
        "      final_labels.append(odd_labels[i])\n",
        "  return final_sentences,final_labels\n",
        "\n",
        "def preprocessing(data,labels):\n",
        "  processed_data=[]\n",
        "  processed_label=[]\n",
        "  for i in range(0,len(data)):\n",
        "    for j in range(0,len(data[i])):\n",
        "      intermediate_data=[]\n",
        "      intermediate_label=[]\n",
        "      for k in range(0,len(data[i][j])):\n",
        "        text=data[i][j][k]\n",
        "        if text != '<eos>'and text!='<pad>':\n",
        "          intermediate_data.append(text)\n",
        "      processed_data.append(intermediate_data)\n",
        "  for i in labels:\n",
        "    for j in i:\n",
        "      processed_label.append(j)\n",
        "  return processed_data,processed_label"
      ],
      "execution_count": null,
      "outputs": []
    },
    {
      "cell_type": "code",
      "metadata": {
        "id": "t1lHB1TgwbOx"
      },
      "source": [
        "processed_data,processed_label = preprocessing(data,labels)\n",
        "for i in range(0,len(processed_data)):\n",
        "  processed_data[i]= ' '.join(processed_data[i])\n",
        "processed_data,processed_label=arrange_sentences(train_convlen,processed_data,processed_label)"
      ],
      "execution_count": null,
      "outputs": []
    },
    {
      "cell_type": "markdown",
      "metadata": {
        "id": "Qvai3Ng5cdwI"
      },
      "source": [
        "**Overview of the training data**"
      ]
    },
    {
      "cell_type": "code",
      "metadata": {
        "colab": {
          "base_uri": "https://localhost:8080/"
        },
        "id": "PkX62B9dcaEW",
        "outputId": "357e44a5-e0c1-4be8-aa13-8347656d0569"
      },
      "source": [
        "print(\"Total number of utterances in the training data : \" + str(len(processed_data)))\n",
        "print()\n",
        "print(\"First 10 utterances : \")\n",
        "for i in range(0,10):\n",
        "  print(processed_data[i])\n",
        "print()\n",
        "print(\"Total number of conversations in the training data : \" + str(len(train_convlen)))"
      ],
      "execution_count": null,
      "outputs": [
        {
          "output_type": "stream",
          "text": [
            "Total number of utterances in the training data : 4699\n",
            "\n",
            "First 10 utterances : \n",
            "thank you for calling sprint . we care about everybody . how can i help you ?\n",
            "are you sure you did n't make them ?\n",
            "can i get your phone number , please ?\n",
            "i 'm going to need it again . i need to look at your file . if you want me to look at your file\n",
            "okay .\n",
            "i am seeing the two hundred dollar charge .\n",
            "well i 'm looking at these .\n",
            "so can you please refund the mischarged charges\n",
            "i did not make the calls from b.f.e . nebraska .\n",
            "so could you discretion it back ?\n",
            "\n",
            "Total number of conversations in the training data : 96\n"
          ],
          "name": "stdout"
        }
      ]
    },
    {
      "cell_type": "markdown",
      "metadata": {
        "id": "bpfcbxFlxH2d"
      },
      "source": [
        "**Adding ConceptNet Features**"
      ]
    },
    {
      "cell_type": "code",
      "metadata": {
        "id": "9WQEY2YoxBXm"
      },
      "source": [
        "def ConceptNet_Sentences(data,labels):\n",
        "  conceptnet_data=[]\n",
        "  conceptnet_labels=[]\n",
        "  for sentences in range(0,len(data)):\n",
        "      current_sentence=data[sentences]\n",
        "      conceptnet_data.append(current_sentence)\n",
        "      conceptnet_labels.append(labels[sentences])\n",
        "      cleaned_sentences=data[sentences].translate(str.maketrans('', '', string.punctuation))\n",
        "      tokens_with_sw=nltk.word_tokenize(cleaned_sentences)\n",
        "      tokens= [word for word in tokens_with_sw if not word in stopwords.words()]\n",
        "      for i in range(1,3):\n",
        "        temp=current_sentence\n",
        "        for j in tokens:\n",
        "          try:\n",
        "            obj = requests.get('http://api.conceptnet.io/related/c/en/' + j + '?filter=/c/en').json()\n",
        "            response=obj['related'][i]['@id']\n",
        "          except Exception:\n",
        "            continue\n",
        "          response=re.sub(r'[^\\w]', ' ', response)\n",
        "          response=response[6:]\n",
        "          temp=temp.replace(j,response)\n",
        "        conceptnet_data.append(temp)\n",
        "        conceptnet_labels.append(labels[sentences])\n",
        "  return conceptnet_data,conceptnet_labels"
      ],
      "execution_count": null,
      "outputs": []
    },
    {
      "cell_type": "code",
      "metadata": {
        "id": "Sk80w4EoxvlN"
      },
      "source": [
        "processed_data,processed_label = ConceptNet_Sentences(processed_data,processed_label)"
      ],
      "execution_count": null,
      "outputs": []
    },
    {
      "cell_type": "markdown",
      "metadata": {
        "id": "RqZ1waq8zawi"
      },
      "source": [
        "**Adding Contextual Info from VADER**"
      ]
    },
    {
      "cell_type": "code",
      "metadata": {
        "id": "5q988xzhzgEc"
      },
      "source": [
        "analyzer = SentimentIntensityAnalyzer()"
      ],
      "execution_count": null,
      "outputs": []
    },
    {
      "cell_type": "markdown",
      "metadata": {
        "id": "O8qPx3PK0A-Y"
      },
      "source": [
        "Function to add VADER features"
      ]
    },
    {
      "cell_type": "code",
      "metadata": {
        "id": "KT33GtO1z-YY"
      },
      "source": [
        "def add_Vader_Features(sentences):\n",
        "  vader_features=[]\n",
        "  for sentence in sentences:\n",
        "    vs = analyzer.polarity_scores(sentence)\n",
        "    temp=[]\n",
        "    temp.append(sentence)\n",
        "    if vs['neg'] > 0.2:\n",
        "      temp.append('negative')\n",
        "    if vs['pos'] > 0.2:\n",
        "      temp.append('positive')\n",
        "    if vs['neu'] > 0.2:\n",
        "      temp.append('neutral')\n",
        "    if vs['compound'] > 0.2:\n",
        "      temp.append('compound')\n",
        "    temp=' '.join(temp)\n",
        "    vader_features.append(temp)\n",
        "  return vader_features"
      ],
      "execution_count": null,
      "outputs": []
    },
    {
      "cell_type": "code",
      "metadata": {
        "id": "B1yzm4s_0EOm"
      },
      "source": [
        "processed_data = add_Vader_Features(processed_data)"
      ],
      "execution_count": null,
      "outputs": []
    },
    {
      "cell_type": "markdown",
      "metadata": {
        "id": "LbS_2_gy0h6T"
      },
      "source": [
        "Converting data for making it possible to pass through the model"
      ]
    },
    {
      "cell_type": "code",
      "metadata": {
        "id": "AUafJeFC0hKN"
      },
      "source": [
        "processed_data=np.asarray(processed_data)\n",
        "Y=to_categorical(processed_label, num_classes=6)"
      ],
      "execution_count": null,
      "outputs": []
    },
    {
      "cell_type": "markdown",
      "metadata": {
        "id": "EVjJaH6z2dvd"
      },
      "source": [
        "**Preparing the Model**"
      ]
    },
    {
      "cell_type": "code",
      "metadata": {
        "id": "UUyuovC42jyY"
      },
      "source": [
        "def albert_encode(texts, tokenizer, max_len=512):\n",
        "    all_tokens = []\n",
        "    all_masks = []\n",
        "    all_segments = []\n",
        "    \n",
        "    for text in texts:\n",
        "        text = tokenizer.tokenize(text)\n",
        "            \n",
        "        text = text[:max_len-2]\n",
        "        input_sequence = [\"[CLS]\"] + text + [\"[SEP]\"]\n",
        "        pad_len = max_len - len(input_sequence)\n",
        "        \n",
        "        tokens = tokenizer.convert_tokens_to_ids(input_sequence)\n",
        "        tokens += [0] * pad_len\n",
        "        pad_masks = [1] * len(input_sequence) + [0] * pad_len\n",
        "        segment_ids = [0] * max_len\n",
        "        \n",
        "        all_tokens.append(tokens)\n",
        "        all_masks.append(pad_masks)\n",
        "        all_segments.append(segment_ids)\n",
        "    \n",
        "    return np.array(all_tokens), np.array(all_masks), np.array(all_segments)\n",
        "def build_model(bert_layer, max_len=512):\n",
        "    input_word_ids = Input(shape=(max_len,), dtype=tf.int32, name=\"input_word_ids\")\n",
        "    input_mask = Input(shape=(max_len,), dtype=tf.int32, name=\"input_mask\")\n",
        "    segment_ids = Input(shape=(max_len,), dtype=tf.int32, name=\"segment_ids\")\n",
        "\n",
        "    pooled_output, sequence_output = bert_layer([input_word_ids, input_mask, segment_ids])\n",
        "    clf_output = pooled_output\n",
        "    out = Dense(100, activation='relu')(clf_output)\n",
        "    out = Dense(100, activation='relu')(out)\n",
        "    out = Dense(6, activation='softmax')(out)\n",
        "    \n",
        "    model = Model(inputs=[input_word_ids, input_mask, segment_ids], outputs=out)\n",
        "    model.compile(Adam(lr=2e-6), loss='binary_crossentropy', metrics=['accuracy'])\n",
        "    \n",
        "    return model"
      ],
      "execution_count": null,
      "outputs": []
    },
    {
      "cell_type": "code",
      "metadata": {
        "id": "8gHsHOgC2pkW"
      },
      "source": [
        "module_url = \"https://tfhub.dev/tensorflow/albert_en_base/1\"\n",
        "albert_layer = hub.KerasLayer(module_url, trainable=True)"
      ],
      "execution_count": null,
      "outputs": []
    },
    {
      "cell_type": "code",
      "metadata": {
        "id": "4jjuLQww245l"
      },
      "source": [
        "sp_model_file = albert_layer.resolved_object.sp_model_file.asset_path.numpy()\n",
        "tokenizer = tokenization.FullSentencePieceTokenizer(sp_model_file)\n",
        "train_input = albert_encode(processed_data, tokenizer, max_len=160)\n",
        "train_labels = Y"
      ],
      "execution_count": null,
      "outputs": []
    },
    {
      "cell_type": "code",
      "metadata": {
        "id": "wlLE3f3g3Ac8",
        "colab": {
          "base_uri": "https://localhost:8080/"
        },
        "outputId": "49d00245-0a85-4c6a-9c1e-5e97916342b1"
      },
      "source": [
        "model = build_model(albert_layer, max_len=160)\n",
        "model.summary()"
      ],
      "execution_count": null,
      "outputs": [
        {
          "output_type": "stream",
          "text": [
            "Model: \"model\"\n",
            "__________________________________________________________________________________________________\n",
            "Layer (type)                    Output Shape         Param #     Connected to                     \n",
            "==================================================================================================\n",
            "input_word_ids (InputLayer)     [(None, 160)]        0                                            \n",
            "__________________________________________________________________________________________________\n",
            "input_mask (InputLayer)         [(None, 160)]        0                                            \n",
            "__________________________________________________________________________________________________\n",
            "segment_ids (InputLayer)        [(None, 160)]        0                                            \n",
            "__________________________________________________________________________________________________\n",
            "keras_layer (KerasLayer)        [(None, 768), (None, 11683584    input_word_ids[0][0]             \n",
            "                                                                 input_mask[0][0]                 \n",
            "                                                                 segment_ids[0][0]                \n",
            "__________________________________________________________________________________________________\n",
            "dense (Dense)                   (None, 100)          76900       keras_layer[0][0]                \n",
            "__________________________________________________________________________________________________\n",
            "dense_1 (Dense)                 (None, 100)          10100       dense[0][0]                      \n",
            "__________________________________________________________________________________________________\n",
            "dense_2 (Dense)                 (None, 6)            606         dense_1[0][0]                    \n",
            "==================================================================================================\n",
            "Total params: 11,771,190\n",
            "Trainable params: 11,771,190\n",
            "Non-trainable params: 0\n",
            "__________________________________________________________________________________________________\n"
          ],
          "name": "stdout"
        },
        {
          "output_type": "stream",
          "text": [
            "/usr/local/lib/python3.7/dist-packages/tensorflow/python/keras/optimizer_v2/optimizer_v2.py:375: UserWarning: The `lr` argument is deprecated, use `learning_rate` instead.\n",
            "  \"The `lr` argument is deprecated, use `learning_rate` instead.\")\n"
          ],
          "name": "stderr"
        }
      ]
    },
    {
      "cell_type": "markdown",
      "metadata": {
        "id": "oOMmKz3O3Z1-"
      },
      "source": [
        "**Training with data**"
      ]
    },
    {
      "cell_type": "code",
      "metadata": {
        "id": "6wQSlcpZ3ZP_",
        "colab": {
          "base_uri": "https://localhost:8080/"
        },
        "outputId": "865c739a-6111-4d7e-9ddc-0e4d9cd228a6"
      },
      "source": [
        "train_history = model.fit(\n",
        "    train_input, train_labels,\n",
        "    epochs=4,\n",
        "    batch_size=1\n",
        ")"
      ],
      "execution_count": null,
      "outputs": [
        {
          "output_type": "stream",
          "text": [
            "Epoch 1/4\n",
            "14097/14097 [==============================] - 675s 47ms/step - loss: 0.3735 - accuracy: 0.4493\n",
            "Epoch 2/4\n",
            "14097/14097 [==============================] - 663s 47ms/step - loss: 0.2261 - accuracy: 0.7365\n",
            "Epoch 3/4\n",
            "14097/14097 [==============================] - 664s 47ms/step - loss: 0.1407 - accuracy: 0.8534\n",
            "Epoch 4/4\n",
            "14097/14097 [==============================] - 663s 47ms/step - loss: 0.1017 - accuracy: 0.8954\n"
          ],
          "name": "stdout"
        }
      ]
    },
    {
      "cell_type": "markdown",
      "metadata": {
        "id": "4jmxXJqt3f1g"
      },
      "source": [
        "**Preprocessing Test Data and passing through the model for accuracy**"
      ]
    },
    {
      "cell_type": "code",
      "metadata": {
        "id": "-KJmF2rL3pHm"
      },
      "source": [
        "test_processed_data,test_processed_label = preprocessing(test_data,test_labels)\n",
        "for i in range(0,len(test_processed_data)):\n",
        "  test_processed_data[i]=' '.join(test_processed_data[i])\n",
        "test_processed_data=np.asarray(test_processed_data)\n",
        "test_Y=to_categorical(test_processed_label, num_classes=6)"
      ],
      "execution_count": null,
      "outputs": []
    },
    {
      "cell_type": "code",
      "metadata": {
        "colab": {
          "base_uri": "https://localhost:8080/"
        },
        "id": "nrwgp8jBeWX4",
        "outputId": "af304f1d-eada-4c53-d380-1aa91c03a850"
      },
      "source": [
        "print(\"Total number of utterances in the testing data : \" + str(len(test_processed_data)))\n",
        "print()\n",
        "print(\"First 10 utterances : \")\n",
        "for i in range(0,10):\n",
        "  print(test_processed_data[i])\n",
        "print()\n",
        "print(\"Total number of conversations in the training data : \" + str(len(test_convlen)))"
      ],
      "execution_count": null,
      "outputs": [
        {
          "output_type": "stream",
          "text": [
            "Total number of utterances in the testing data : 1624\n",
            "\n",
            "First 10 utterances : \n",
            "what 's he going to say ? maybe we should tell him before he sees it .\n",
            "when ? i was the first one up . he was still in bed . how could he have seen it ?\n",
            "did you talk to him ?\n",
            "no . i figured it was best to leave him alone .\n",
            "he cried hard ?\n",
            "you know that larry 's not coming back and i know it . so why do we go on letting him think that we believe with him ?\n",
            "what do you want to do , argue with him ?\n",
            "i do n't want to argue with him . but it 's time he knows that nobody else thinks that larry 's alive anymore .\n",
            "why should he dream about him , walking around looking for him at night ? do we contradict him ? do we say straight out that we do n't\n",
            "we have to say it to him .\n",
            "\n",
            "Total number of conversations in the training data : 31\n"
          ],
          "name": "stdout"
        }
      ]
    },
    {
      "cell_type": "code",
      "metadata": {
        "id": "5Z7t1ifS3_yX"
      },
      "source": [
        "test_input = albert_encode(test_processed_data, tokenizer, max_len=160)\n",
        "test_labels = test_Y"
      ],
      "execution_count": null,
      "outputs": []
    },
    {
      "cell_type": "code",
      "metadata": {
        "id": "5RMJ4VbY4BoP"
      },
      "source": [
        "y_pred=model.predict(test_input, batch_size=1)"
      ],
      "execution_count": null,
      "outputs": []
    },
    {
      "cell_type": "code",
      "metadata": {
        "id": "UBqE9q1f4ERN",
        "colab": {
          "base_uri": "https://localhost:8080/"
        },
        "outputId": "a1af3534-e23c-4842-e22f-7d6028939e8b"
      },
      "source": [
        "y_pred1=np.argmax(y_pred,axis=1)\n",
        "test_processed_label=np.asarray(test_processed_label)\n",
        "print(\"Accuracy : \" + str(accuracy_score(test_processed_label, y_pred1)))\n",
        "print(\"Weighted F1-score : \" + str(f1_score(test_processed_label, y_pred1, average='weighted')))"
      ],
      "execution_count": null,
      "outputs": [
        {
          "output_type": "stream",
          "text": [
            "Accuracy : 0.6514679802955665\n",
            "Weighted F1-score : 0.6521660775699538\n"
          ],
          "name": "stdout"
        }
      ]
    },
    {
      "cell_type": "markdown",
      "metadata": {
        "id": "SIqftod2KueY"
      },
      "source": [
        "**Enhanced Results**"
      ]
    },
    {
      "cell_type": "code",
      "metadata": {
        "colab": {
          "base_uri": "https://localhost:8080/"
        },
        "id": "RtDzKQZ3ijJA",
        "outputId": "c348cd30-b8c8-4325-d718-b4e4021143ab"
      },
      "source": [
        "print(\"Precision : \" + str(precision_score(test_processed_label, y_pred1, average='weighted')))"
      ],
      "execution_count": null,
      "outputs": [
        {
          "output_type": "stream",
          "text": [
            "Precision : 0.6504026129602586\n"
          ],
          "name": "stdout"
        }
      ]
    },
    {
      "cell_type": "code",
      "metadata": {
        "colab": {
          "base_uri": "https://localhost:8080/"
        },
        "id": "CMWPVhIsKxU1",
        "outputId": "9741166f-016e-409a-c906-665e73c8899c"
      },
      "source": [
        "print(\"Confusion Matrix : \")\n",
        "confusion_matrix(test_processed_label,y_pred1)"
      ],
      "execution_count": null,
      "outputs": [
        {
          "output_type": "stream",
          "text": [
            "Confusion Matrix : \n"
          ],
          "name": "stdout"
        },
        {
          "output_type": "execute_result",
          "data": {
            "text/plain": [
              "array([[ 52,   8,   8,   0,  12,  11],\n",
              "       [  2,  95,  12,   5,   1,  42],\n",
              "       [  5,  27, 169,   6,   3,  98],\n",
              "       [  1,   3,  10, 183,   2,  71],\n",
              "       [ 34,  23,  43,   8, 164,  58],\n",
              "       [  6,  20,  36,  36,   1, 369]])"
            ]
          },
          "metadata": {
            "tags": []
          },
          "execution_count": 31
        }
      ]
    },
    {
      "cell_type": "code",
      "metadata": {
        "colab": {
          "base_uri": "https://localhost:8080/"
        },
        "id": "8BRJYyCVi7vY",
        "outputId": "355eb773-77b7-4533-8593-66898380a5b8"
      },
      "source": [
        "print(\"Jaccard Score : \")\n",
        "jaccard_score(test_processed_label,y_pred1,average='weighted')"
      ],
      "execution_count": null,
      "outputs": [
        {
          "output_type": "stream",
          "text": [
            "Jaccard Score : \n"
          ],
          "name": "stdout"
        },
        {
          "output_type": "execute_result",
          "data": {
            "text/plain": [
              "0.4676787148799757"
            ]
          },
          "metadata": {
            "tags": []
          },
          "execution_count": 39
        }
      ]
    }
  ]
}
