{
  "nbformat": 4,
  "nbformat_minor": 0,
  "metadata": {
    "colab": {
      "name": "MELD_Run (1).ipynb",
      "provenance": [],
      "collapsed_sections": []
    },
    "kernelspec": {
      "name": "python3",
      "display_name": "Python 3"
    },
    "language_info": {
      "name": "python"
    },
    "accelerator": "GPU"
  },
  "cells": [
    {
      "cell_type": "markdown",
      "metadata": {
        "id": "Hx2x1-EyMvyp"
      },
      "source": [
        "**Importing**"
      ]
    },
    {
      "cell_type": "code",
      "metadata": {
        "colab": {
          "base_uri": "https://localhost:8080/"
        },
        "id": "wH_kMsZvMtyI",
        "outputId": "0ccc7dc5-efcf-4228-e427-0e36de54e738"
      },
      "source": [
        "import pickle\n",
        "import string\n",
        "import nltk\n",
        "from nltk.corpus import stopwords\n",
        "nltk.download('punkt')\n",
        "nltk.download('stopwords')\n",
        "import numpy as np\n",
        "from keras.utils.np_utils import to_categorical  \n",
        "import tensorflow_hub as hub\n",
        "import tensorflow as tf\n",
        "from tensorflow.keras.layers import Dense, Input\n",
        "from tensorflow.keras.optimizers import Adam\n",
        "from tensorflow.keras.models import Model\n",
        "from sklearn.metrics import f1_score\n",
        "from sklearn.metrics import accuracy_score"
      ],
      "execution_count": null,
      "outputs": [
        {
          "output_type": "stream",
          "name": "stdout",
          "text": [
            "[nltk_data] Downloading package punkt to /root/nltk_data...\n",
            "[nltk_data]   Unzipping tokenizers/punkt.zip.\n",
            "[nltk_data] Downloading package stopwords to /root/nltk_data...\n",
            "[nltk_data]   Unzipping corpora/stopwords.zip.\n"
          ]
        }
      ]
    },
    {
      "cell_type": "markdown",
      "metadata": {
        "id": "6mE1bNbNL_AS"
      },
      "source": [
        "**MELD Preprocessing**"
      ]
    },
    {
      "cell_type": "code",
      "metadata": {
        "id": "Hc-cjwX9a6oy"
      },
      "source": [
        "import pandas as pd "
      ],
      "execution_count": null,
      "outputs": []
    },
    {
      "cell_type": "code",
      "metadata": {
        "id": "mroGmNoHeReE"
      },
      "source": [
        "train_data= pd.read_csv(\"/content/train_sent_emo_dya.csv\")\n",
        "test_data= pd.read_csv(\"/content/test_sent_emo_dya.csv\")"
      ],
      "execution_count": null,
      "outputs": []
    },
    {
      "cell_type": "code",
      "metadata": {
        "id": "A4GS-tJcm6sM"
      },
      "source": [
        "#Creating a list of strings with MELD dataset sentences\n",
        "#Input : data in pandas format. Output : List of Strings, List of respective labels\n",
        "def preprocess_meld(data):\n",
        "  l=[]\n",
        "  l=list(data.Utterance)\n",
        "  m=[]\n",
        "  m=list(data.Emotion)\n",
        "  k=[]\n",
        "  for i in m:\n",
        "    if i=='anger':\n",
        "      k.append(0)\n",
        "    if i=='disgust':\n",
        "      k.append(1)\n",
        "    if i=='fear':\n",
        "      k.append(2)\n",
        "    if i=='joy':\n",
        "      k.append(3)\n",
        "    if i=='neutral':\n",
        "      k.append(4)\n",
        "    if i=='sadness':\n",
        "      k.append(5)\n",
        "    if i=='surprise':\n",
        "      k.append(6)\n",
        "  return l,k"
      ],
      "execution_count": null,
      "outputs": []
    },
    {
      "cell_type": "code",
      "metadata": {
        "id": "ZKKjnPg6oONy"
      },
      "source": [
        "processed_data,processed_label = preprocess_meld(train_data)"
      ],
      "execution_count": null,
      "outputs": []
    },
    {
      "cell_type": "code",
      "metadata": {
        "id": "wYxQe4ltohFS"
      },
      "source": [
        "test_processed_data,test_processed_label = preprocess_meld(test_data)"
      ],
      "execution_count": null,
      "outputs": []
    },
    {
      "cell_type": "markdown",
      "metadata": {
        "id": "yMo6XJrAMVrX"
      },
      "source": [
        "**Running on the model**"
      ]
    },
    {
      "cell_type": "code",
      "metadata": {
        "id": "Ekt1MCPzMYl8"
      },
      "source": [
        "def ConceptNet_Sentences(data,labels):\n",
        "  conceptnet_data=[]\n",
        "  conceptnet_labels=[]\n",
        "  for sentences in range(0,len(data)):\n",
        "      current_sentence=data[sentences]\n",
        "      conceptnet_data.append(current_sentence)\n",
        "      conceptnet_labels.append(labels[sentences])\n",
        "      cleaned_sentences=data[sentences].translate(str.maketrans('', '', string.punctuation))\n",
        "      tokens_with_sw=nltk.word_tokenize(cleaned_sentences)\n",
        "      tokens= [word for word in tokens_with_sw if not word in stopwords.words()]\n",
        "      for i in range(1,3):\n",
        "        temp=current_sentence\n",
        "        for j in tokens:\n",
        "          try:\n",
        "            obj = requests.get('http://api.conceptnet.io/related/c/en/' + j + '?filter=/c/en').json()\n",
        "            response=obj['related'][i]['@id']\n",
        "          except Exception:\n",
        "            continue\n",
        "          response=re.sub(r'[^\\w]', ' ', response)\n",
        "          response=response[6:]\n",
        "          temp=temp.replace(j,response)\n",
        "        conceptnet_data.append(temp)\n",
        "        conceptnet_labels.append(labels[sentences])\n",
        "  return conceptnet_data,conceptnet_labels"
      ],
      "execution_count": null,
      "outputs": []
    },
    {
      "cell_type": "code",
      "metadata": {
        "id": "WD9dgviDMl-h"
      },
      "source": [
        "processed_data,processed_label = ConceptNet_Sentences(processed_data,processed_label)"
      ],
      "execution_count": null,
      "outputs": []
    },
    {
      "cell_type": "code",
      "metadata": {
        "colab": {
          "base_uri": "https://localhost:8080/"
        },
        "id": "8WNeT0S9NCun",
        "outputId": "66958136-a2ed-4187-ba75-6b120d17a6c3"
      },
      "source": [
        "!pip install vaderSentiment\n",
        "from vaderSentiment.vaderSentiment import SentimentIntensityAnalyzer\n",
        "analyzer = SentimentIntensityAnalyzer()"
      ],
      "execution_count": null,
      "outputs": [
        {
          "output_type": "stream",
          "name": "stdout",
          "text": [
            "Collecting vaderSentiment\n",
            "  Downloading vaderSentiment-3.3.2-py2.py3-none-any.whl (125 kB)\n",
            "\u001b[?25l\r\u001b[K     |██▋                             | 10 kB 24.6 MB/s eta 0:00:01\r\u001b[K     |█████▏                          | 20 kB 28.5 MB/s eta 0:00:01\r\u001b[K     |███████▉                        | 30 kB 26.8 MB/s eta 0:00:01\r\u001b[K     |██████████▍                     | 40 kB 19.8 MB/s eta 0:00:01\r\u001b[K     |█████████████                   | 51 kB 14.6 MB/s eta 0:00:01\r\u001b[K     |███████████████▋                | 61 kB 11.0 MB/s eta 0:00:01\r\u001b[K     |██████████████████▏             | 71 kB 11.8 MB/s eta 0:00:01\r\u001b[K     |████████████████████▉           | 81 kB 13.1 MB/s eta 0:00:01\r\u001b[K     |███████████████████████▍        | 92 kB 11.3 MB/s eta 0:00:01\r\u001b[K     |██████████████████████████      | 102 kB 12.2 MB/s eta 0:00:01\r\u001b[K     |████████████████████████████▋   | 112 kB 12.2 MB/s eta 0:00:01\r\u001b[K     |███████████████████████████████▏| 122 kB 12.2 MB/s eta 0:00:01\r\u001b[K     |████████████████████████████████| 125 kB 12.2 MB/s \n",
            "\u001b[?25hRequirement already satisfied: requests in /usr/local/lib/python3.7/dist-packages (from vaderSentiment) (2.23.0)\n",
            "Requirement already satisfied: chardet<4,>=3.0.2 in /usr/local/lib/python3.7/dist-packages (from requests->vaderSentiment) (3.0.4)\n",
            "Requirement already satisfied: certifi>=2017.4.17 in /usr/local/lib/python3.7/dist-packages (from requests->vaderSentiment) (2021.5.30)\n",
            "Requirement already satisfied: urllib3!=1.25.0,!=1.25.1,<1.26,>=1.21.1 in /usr/local/lib/python3.7/dist-packages (from requests->vaderSentiment) (1.24.3)\n",
            "Requirement already satisfied: idna<3,>=2.5 in /usr/local/lib/python3.7/dist-packages (from requests->vaderSentiment) (2.10)\n",
            "Installing collected packages: vaderSentiment\n",
            "Successfully installed vaderSentiment-3.3.2\n"
          ]
        }
      ]
    },
    {
      "cell_type": "code",
      "metadata": {
        "id": "PIcsxXuDNHTn"
      },
      "source": [
        "def add_Vader_Features(sentences):\n",
        "  vader_features=[]\n",
        "  for sentence in sentences:\n",
        "    vs = analyzer.polarity_scores(sentence)\n",
        "    temp=[]\n",
        "    temp.append(sentence)\n",
        "    if vs['neg'] > 0.2:\n",
        "      temp.append('negative')\n",
        "    if vs['pos'] > 0.2:\n",
        "      temp.append('positive')\n",
        "    if vs['neu'] > 0.2:\n",
        "      temp.append('neutral')\n",
        "    if vs['compound'] > 0.2:\n",
        "      temp.append('compound')\n",
        "    temp=' '.join(temp)\n",
        "    vader_features.append(temp)\n",
        "  return vader_features"
      ],
      "execution_count": null,
      "outputs": []
    },
    {
      "cell_type": "code",
      "metadata": {
        "id": "vy9BA3DUNKQI"
      },
      "source": [
        "processed_data = add_Vader_Features(processed_data)"
      ],
      "execution_count": null,
      "outputs": []
    },
    {
      "cell_type": "code",
      "metadata": {
        "id": "PF6SLeQJNMOh"
      },
      "source": [
        "processed_data=np.asarray(processed_data)\n",
        "Y=to_categorical(processed_label, num_classes=7)"
      ],
      "execution_count": null,
      "outputs": []
    },
    {
      "cell_type": "markdown",
      "metadata": {
        "id": "vYkq9sJVQoew"
      },
      "source": [
        "**Preparing the model**"
      ]
    },
    {
      "cell_type": "code",
      "metadata": {
        "colab": {
          "base_uri": "https://localhost:8080/"
        },
        "id": "HC1PUMdQQrBo",
        "outputId": "f131e930-b613-4951-80ff-769ee5d5c045"
      },
      "source": [
        "!wget --quiet https://raw.githubusercontent.com/tensorflow/models/master/official/nlp/bert/tokenization.py\n",
        "!pip install sentencepiece\n",
        "import tokenization"
      ],
      "execution_count": null,
      "outputs": [
        {
          "output_type": "stream",
          "name": "stdout",
          "text": [
            "Collecting sentencepiece\n",
            "  Downloading sentencepiece-0.1.96-cp37-cp37m-manylinux_2_17_x86_64.manylinux2014_x86_64.whl (1.2 MB)\n",
            "\u001b[?25l\r\u001b[K     |▎                               | 10 kB 23.4 MB/s eta 0:00:01\r\u001b[K     |▌                               | 20 kB 27.9 MB/s eta 0:00:01\r\u001b[K     |▉                               | 30 kB 14.7 MB/s eta 0:00:01\r\u001b[K     |█                               | 40 kB 11.1 MB/s eta 0:00:01\r\u001b[K     |█▍                              | 51 kB 11.0 MB/s eta 0:00:01\r\u001b[K     |█▋                              | 61 kB 10.7 MB/s eta 0:00:01\r\u001b[K     |██                              | 71 kB 10.2 MB/s eta 0:00:01\r\u001b[K     |██▏                             | 81 kB 11.3 MB/s eta 0:00:01\r\u001b[K     |██▍                             | 92 kB 12.4 MB/s eta 0:00:01\r\u001b[K     |██▊                             | 102 kB 11.8 MB/s eta 0:00:01\r\u001b[K     |███                             | 112 kB 11.8 MB/s eta 0:00:01\r\u001b[K     |███▎                            | 122 kB 11.8 MB/s eta 0:00:01\r\u001b[K     |███▌                            | 133 kB 11.8 MB/s eta 0:00:01\r\u001b[K     |███▉                            | 143 kB 11.8 MB/s eta 0:00:01\r\u001b[K     |████                            | 153 kB 11.8 MB/s eta 0:00:01\r\u001b[K     |████▎                           | 163 kB 11.8 MB/s eta 0:00:01\r\u001b[K     |████▋                           | 174 kB 11.8 MB/s eta 0:00:01\r\u001b[K     |████▉                           | 184 kB 11.8 MB/s eta 0:00:01\r\u001b[K     |█████▏                          | 194 kB 11.8 MB/s eta 0:00:01\r\u001b[K     |█████▍                          | 204 kB 11.8 MB/s eta 0:00:01\r\u001b[K     |█████▊                          | 215 kB 11.8 MB/s eta 0:00:01\r\u001b[K     |██████                          | 225 kB 11.8 MB/s eta 0:00:01\r\u001b[K     |██████▏                         | 235 kB 11.8 MB/s eta 0:00:01\r\u001b[K     |██████▌                         | 245 kB 11.8 MB/s eta 0:00:01\r\u001b[K     |██████▊                         | 256 kB 11.8 MB/s eta 0:00:01\r\u001b[K     |███████                         | 266 kB 11.8 MB/s eta 0:00:01\r\u001b[K     |███████▎                        | 276 kB 11.8 MB/s eta 0:00:01\r\u001b[K     |███████▋                        | 286 kB 11.8 MB/s eta 0:00:01\r\u001b[K     |███████▉                        | 296 kB 11.8 MB/s eta 0:00:01\r\u001b[K     |████████                        | 307 kB 11.8 MB/s eta 0:00:01\r\u001b[K     |████████▍                       | 317 kB 11.8 MB/s eta 0:00:01\r\u001b[K     |████████▋                       | 327 kB 11.8 MB/s eta 0:00:01\r\u001b[K     |█████████                       | 337 kB 11.8 MB/s eta 0:00:01\r\u001b[K     |█████████▏                      | 348 kB 11.8 MB/s eta 0:00:01\r\u001b[K     |█████████▌                      | 358 kB 11.8 MB/s eta 0:00:01\r\u001b[K     |█████████▊                      | 368 kB 11.8 MB/s eta 0:00:01\r\u001b[K     |██████████                      | 378 kB 11.8 MB/s eta 0:00:01\r\u001b[K     |██████████▎                     | 389 kB 11.8 MB/s eta 0:00:01\r\u001b[K     |██████████▌                     | 399 kB 11.8 MB/s eta 0:00:01\r\u001b[K     |██████████▉                     | 409 kB 11.8 MB/s eta 0:00:01\r\u001b[K     |███████████                     | 419 kB 11.8 MB/s eta 0:00:01\r\u001b[K     |███████████▍                    | 430 kB 11.8 MB/s eta 0:00:01\r\u001b[K     |███████████▋                    | 440 kB 11.8 MB/s eta 0:00:01\r\u001b[K     |███████████▉                    | 450 kB 11.8 MB/s eta 0:00:01\r\u001b[K     |████████████▏                   | 460 kB 11.8 MB/s eta 0:00:01\r\u001b[K     |████████████▍                   | 471 kB 11.8 MB/s eta 0:00:01\r\u001b[K     |████████████▊                   | 481 kB 11.8 MB/s eta 0:00:01\r\u001b[K     |█████████████                   | 491 kB 11.8 MB/s eta 0:00:01\r\u001b[K     |█████████████▎                  | 501 kB 11.8 MB/s eta 0:00:01\r\u001b[K     |█████████████▌                  | 512 kB 11.8 MB/s eta 0:00:01\r\u001b[K     |█████████████▊                  | 522 kB 11.8 MB/s eta 0:00:01\r\u001b[K     |██████████████                  | 532 kB 11.8 MB/s eta 0:00:01\r\u001b[K     |██████████████▎                 | 542 kB 11.8 MB/s eta 0:00:01\r\u001b[K     |██████████████▋                 | 552 kB 11.8 MB/s eta 0:00:01\r\u001b[K     |██████████████▉                 | 563 kB 11.8 MB/s eta 0:00:01\r\u001b[K     |███████████████▏                | 573 kB 11.8 MB/s eta 0:00:01\r\u001b[K     |███████████████▍                | 583 kB 11.8 MB/s eta 0:00:01\r\u001b[K     |███████████████▋                | 593 kB 11.8 MB/s eta 0:00:01\r\u001b[K     |████████████████                | 604 kB 11.8 MB/s eta 0:00:01\r\u001b[K     |████████████████▏               | 614 kB 11.8 MB/s eta 0:00:01\r\u001b[K     |████████████████▌               | 624 kB 11.8 MB/s eta 0:00:01\r\u001b[K     |████████████████▊               | 634 kB 11.8 MB/s eta 0:00:01\r\u001b[K     |█████████████████               | 645 kB 11.8 MB/s eta 0:00:01\r\u001b[K     |█████████████████▎              | 655 kB 11.8 MB/s eta 0:00:01\r\u001b[K     |█████████████████▌              | 665 kB 11.8 MB/s eta 0:00:01\r\u001b[K     |█████████████████▉              | 675 kB 11.8 MB/s eta 0:00:01\r\u001b[K     |██████████████████              | 686 kB 11.8 MB/s eta 0:00:01\r\u001b[K     |██████████████████▍             | 696 kB 11.8 MB/s eta 0:00:01\r\u001b[K     |██████████████████▋             | 706 kB 11.8 MB/s eta 0:00:01\r\u001b[K     |███████████████████             | 716 kB 11.8 MB/s eta 0:00:01\r\u001b[K     |███████████████████▏            | 727 kB 11.8 MB/s eta 0:00:01\r\u001b[K     |███████████████████▍            | 737 kB 11.8 MB/s eta 0:00:01\r\u001b[K     |███████████████████▊            | 747 kB 11.8 MB/s eta 0:00:01\r\u001b[K     |████████████████████            | 757 kB 11.8 MB/s eta 0:00:01\r\u001b[K     |████████████████████▎           | 768 kB 11.8 MB/s eta 0:00:01\r\u001b[K     |████████████████████▌           | 778 kB 11.8 MB/s eta 0:00:01\r\u001b[K     |████████████████████▉           | 788 kB 11.8 MB/s eta 0:00:01\r\u001b[K     |█████████████████████           | 798 kB 11.8 MB/s eta 0:00:01\r\u001b[K     |█████████████████████▎          | 808 kB 11.8 MB/s eta 0:00:01\r\u001b[K     |█████████████████████▋          | 819 kB 11.8 MB/s eta 0:00:01\r\u001b[K     |█████████████████████▉          | 829 kB 11.8 MB/s eta 0:00:01\r\u001b[K     |██████████████████████▏         | 839 kB 11.8 MB/s eta 0:00:01\r\u001b[K     |██████████████████████▍         | 849 kB 11.8 MB/s eta 0:00:01\r\u001b[K     |██████████████████████▊         | 860 kB 11.8 MB/s eta 0:00:01\r\u001b[K     |███████████████████████         | 870 kB 11.8 MB/s eta 0:00:01\r\u001b[K     |███████████████████████▏        | 880 kB 11.8 MB/s eta 0:00:01\r\u001b[K     |███████████████████████▌        | 890 kB 11.8 MB/s eta 0:00:01\r\u001b[K     |███████████████████████▊        | 901 kB 11.8 MB/s eta 0:00:01\r\u001b[K     |████████████████████████        | 911 kB 11.8 MB/s eta 0:00:01\r\u001b[K     |████████████████████████▎       | 921 kB 11.8 MB/s eta 0:00:01\r\u001b[K     |████████████████████████▋       | 931 kB 11.8 MB/s eta 0:00:01\r\u001b[K     |████████████████████████▉       | 942 kB 11.8 MB/s eta 0:00:01\r\u001b[K     |█████████████████████████       | 952 kB 11.8 MB/s eta 0:00:01\r\u001b[K     |█████████████████████████▍      | 962 kB 11.8 MB/s eta 0:00:01\r\u001b[K     |█████████████████████████▋      | 972 kB 11.8 MB/s eta 0:00:01\r\u001b[K     |██████████████████████████      | 983 kB 11.8 MB/s eta 0:00:01\r\u001b[K     |██████████████████████████▏     | 993 kB 11.8 MB/s eta 0:00:01\r\u001b[K     |██████████████████████████▌     | 1.0 MB 11.8 MB/s eta 0:00:01\r\u001b[K     |██████████████████████████▊     | 1.0 MB 11.8 MB/s eta 0:00:01\r\u001b[K     |███████████████████████████     | 1.0 MB 11.8 MB/s eta 0:00:01\r\u001b[K     |███████████████████████████▎    | 1.0 MB 11.8 MB/s eta 0:00:01\r\u001b[K     |███████████████████████████▌    | 1.0 MB 11.8 MB/s eta 0:00:01\r\u001b[K     |███████████████████████████▉    | 1.1 MB 11.8 MB/s eta 0:00:01\r\u001b[K     |████████████████████████████    | 1.1 MB 11.8 MB/s eta 0:00:01\r\u001b[K     |████████████████████████████▍   | 1.1 MB 11.8 MB/s eta 0:00:01\r\u001b[K     |████████████████████████████▋   | 1.1 MB 11.8 MB/s eta 0:00:01\r\u001b[K     |████████████████████████████▉   | 1.1 MB 11.8 MB/s eta 0:00:01\r\u001b[K     |█████████████████████████████▏  | 1.1 MB 11.8 MB/s eta 0:00:01\r\u001b[K     |█████████████████████████████▍  | 1.1 MB 11.8 MB/s eta 0:00:01\r\u001b[K     |█████████████████████████████▊  | 1.1 MB 11.8 MB/s eta 0:00:01\r\u001b[K     |██████████████████████████████  | 1.1 MB 11.8 MB/s eta 0:00:01\r\u001b[K     |██████████████████████████████▎ | 1.1 MB 11.8 MB/s eta 0:00:01\r\u001b[K     |██████████████████████████████▌ | 1.2 MB 11.8 MB/s eta 0:00:01\r\u001b[K     |██████████████████████████████▊ | 1.2 MB 11.8 MB/s eta 0:00:01\r\u001b[K     |███████████████████████████████ | 1.2 MB 11.8 MB/s eta 0:00:01\r\u001b[K     |███████████████████████████████▎| 1.2 MB 11.8 MB/s eta 0:00:01\r\u001b[K     |███████████████████████████████▋| 1.2 MB 11.8 MB/s eta 0:00:01\r\u001b[K     |███████████████████████████████▉| 1.2 MB 11.8 MB/s eta 0:00:01\r\u001b[K     |████████████████████████████████| 1.2 MB 11.8 MB/s \n",
            "\u001b[?25hInstalling collected packages: sentencepiece\n",
            "Successfully installed sentencepiece-0.1.96\n"
          ]
        }
      ]
    },
    {
      "cell_type": "code",
      "metadata": {
        "id": "4t4834-VQrLw"
      },
      "source": [
        "def albert_encode(texts, tokenizer, max_len=512):\n",
        "    all_tokens = []\n",
        "    all_masks = []\n",
        "    all_segments = []\n",
        "    \n",
        "    for text in texts:\n",
        "        text = tokenizer.tokenize(text)\n",
        "            \n",
        "        text = text[:max_len-2]\n",
        "        input_sequence = [\"[CLS]\"] + text + [\"[SEP]\"]\n",
        "        pad_len = max_len - len(input_sequence)\n",
        "        \n",
        "        tokens = tokenizer.convert_tokens_to_ids(input_sequence)\n",
        "        tokens += [0] * pad_len\n",
        "        pad_masks = [1] * len(input_sequence) + [0] * pad_len\n",
        "        segment_ids = [0] * max_len\n",
        "        \n",
        "        all_tokens.append(tokens)\n",
        "        all_masks.append(pad_masks)\n",
        "        all_segments.append(segment_ids)\n",
        "    \n",
        "    return np.array(all_tokens), np.array(all_masks), np.array(all_segments)\n",
        "def build_model(bert_layer, max_len=512):\n",
        "    input_word_ids = Input(shape=(max_len,), dtype=tf.int32, name=\"input_word_ids\")\n",
        "    input_mask = Input(shape=(max_len,), dtype=tf.int32, name=\"input_mask\")\n",
        "    segment_ids = Input(shape=(max_len,), dtype=tf.int32, name=\"segment_ids\")\n",
        "\n",
        "    pooled_output, sequence_output = bert_layer([input_word_ids, input_mask, segment_ids])\n",
        "    clf_output = pooled_output\n",
        "    out = Dense(100, activation='relu')(clf_output)\n",
        "    out = Dense(100, activation='relu')(out)\n",
        "    out = Dense(7, activation='softmax')(out)\n",
        "    \n",
        "    model = Model(inputs=[input_word_ids, input_mask, segment_ids], outputs=out)\n",
        "    model.compile(Adam(lr=2e-6), loss='binary_crossentropy', metrics=['accuracy'])\n",
        "    \n",
        "    return model"
      ],
      "execution_count": null,
      "outputs": []
    },
    {
      "cell_type": "code",
      "metadata": {
        "id": "79HX1h5LQ1SO"
      },
      "source": [
        "module_url = \"https://tfhub.dev/tensorflow/albert_en_base/1\"\n",
        "albert_layer = hub.KerasLayer(module_url, trainable=True)"
      ],
      "execution_count": null,
      "outputs": []
    },
    {
      "cell_type": "code",
      "metadata": {
        "id": "TSYYnYOeQ3ZU"
      },
      "source": [
        "sp_model_file = albert_layer.resolved_object.sp_model_file.asset_path.numpy()\n",
        "tokenizer = tokenization.FullSentencePieceTokenizer(sp_model_file)\n",
        "train_input = albert_encode(processed_data, tokenizer, max_len=160)\n",
        "train_labels = Y"
      ],
      "execution_count": null,
      "outputs": []
    },
    {
      "cell_type": "code",
      "metadata": {
        "colab": {
          "base_uri": "https://localhost:8080/"
        },
        "id": "sQ5GceqCQ7E-",
        "outputId": "ceb021a2-b1f8-4a76-cbea-39575c2fc46b"
      },
      "source": [
        "model = build_model(albert_layer, max_len=160)\n",
        "model.summary()"
      ],
      "execution_count": null,
      "outputs": [
        {
          "output_type": "stream",
          "name": "stdout",
          "text": [
            "Model: \"model\"\n",
            "__________________________________________________________________________________________________\n",
            "Layer (type)                    Output Shape         Param #     Connected to                     \n",
            "==================================================================================================\n",
            "input_word_ids (InputLayer)     [(None, 160)]        0                                            \n",
            "__________________________________________________________________________________________________\n",
            "input_mask (InputLayer)         [(None, 160)]        0                                            \n",
            "__________________________________________________________________________________________________\n",
            "segment_ids (InputLayer)        [(None, 160)]        0                                            \n",
            "__________________________________________________________________________________________________\n",
            "keras_layer (KerasLayer)        [(None, 768), (None, 11683584    input_word_ids[0][0]             \n",
            "                                                                 input_mask[0][0]                 \n",
            "                                                                 segment_ids[0][0]                \n",
            "__________________________________________________________________________________________________\n",
            "dense (Dense)                   (None, 100)          76900       keras_layer[0][0]                \n",
            "__________________________________________________________________________________________________\n",
            "dense_1 (Dense)                 (None, 100)          10100       dense[0][0]                      \n",
            "__________________________________________________________________________________________________\n",
            "dense_2 (Dense)                 (None, 7)            707         dense_1[0][0]                    \n",
            "==================================================================================================\n",
            "Total params: 11,771,291\n",
            "Trainable params: 11,771,291\n",
            "Non-trainable params: 0\n",
            "__________________________________________________________________________________________________\n"
          ]
        },
        {
          "output_type": "stream",
          "name": "stderr",
          "text": [
            "/usr/local/lib/python3.7/dist-packages/keras/optimizer_v2/optimizer_v2.py:356: UserWarning: The `lr` argument is deprecated, use `learning_rate` instead.\n",
            "  \"The `lr` argument is deprecated, use `learning_rate` instead.\")\n"
          ]
        }
      ]
    },
    {
      "cell_type": "code",
      "metadata": {
        "colab": {
          "base_uri": "https://localhost:8080/"
        },
        "id": "25YjuvWDQ-Nn",
        "outputId": "e78f1bd2-bf5d-4370-bf4b-49f9725c6e7f"
      },
      "source": [
        "train_history = model.fit(\n",
        "    train_input, train_labels,\n",
        "    epochs=2,\n",
        "    batch_size=1\n",
        ")"
      ],
      "execution_count": null,
      "outputs": [
        {
          "output_type": "stream",
          "name": "stdout",
          "text": [
            "Epoch 1/2\n",
            "38520/38520 [==============================] - 4386s 113ms/step - loss: 0.2521 - accuracy: 0.6383\n",
            "Epoch 2/2\n",
            "38520/38520 [==============================] - 4354s 113ms/step - loss: 0.1528 - accuracy: 0.8019\n"
          ]
        }
      ]
    },
    {
      "cell_type": "markdown",
      "metadata": {
        "id": "69oSEXk0RMeO"
      },
      "source": [
        "**Preprocessing Test Data and passing through the model for accuracy**"
      ]
    },
    {
      "cell_type": "code",
      "metadata": {
        "id": "-pd0FUbBRRD9"
      },
      "source": [
        "for i in range(0,len(test_processed_data)):\n",
        "  test_processed_data[i]=' '.join(test_processed_data[i])\n",
        "test_processed_data=np.asarray(test_processed_data)\n",
        "test_Y=to_categorical(test_processed_label, num_classes=7)"
      ],
      "execution_count": null,
      "outputs": []
    },
    {
      "cell_type": "code",
      "metadata": {
        "id": "Jtv5xEQaRWBt"
      },
      "source": [
        "test_input = albert_encode(processed_data, tokenizer, max_len=160)\n",
        "test_labels = processed_label"
      ],
      "execution_count": null,
      "outputs": []
    },
    {
      "cell_type": "code",
      "metadata": {
        "id": "fRnUjnxVRX9u"
      },
      "source": [
        "y_pred=model.predict(test_input, batch_size=1)"
      ],
      "execution_count": null,
      "outputs": []
    },
    {
      "cell_type": "code",
      "metadata": {
        "colab": {
          "base_uri": "https://localhost:8080/",
          "height": 367
        },
        "id": "tk6Dz9gcRZDc",
        "outputId": "56dede0d-4269-46d1-f05a-ec9b4d31b8de"
      },
      "source": [
        "y_pred1=np.argmax(y_pred,axis=1)\n",
        "test_processed_label=np.asarray(test_processed_label)\n",
        "print(\"Accuracy : \" + str(accuracy_score(test_processed_label, y_pred1)))\n",
        "print(\"Weighted F1-score : \" + str(f1_score(test_processed_label, y_pred1, average='weighted')))"
      ],
      "execution_count": null,
      "outputs": [
        {
          "output_type": "stream",
          "text": [
            "Accuracy : 0.6214679802955665\n",
            "Weighted F1-score : 0.5871660775699538\n"
          ],
          "name": "stdout"
        }
      ]
    }
  ]
}
